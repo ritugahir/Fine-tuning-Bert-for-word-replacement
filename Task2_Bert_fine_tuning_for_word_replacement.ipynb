{
  "nbformat": 4,
  "nbformat_minor": 0,
  "metadata": {
    "colab": {
      "name": "Task2- Bert fine tuning for word replacement.ipynb",
      "provenance": [],
      "collapsed_sections": [
        "1OiBwaz8lP4r",
        "3YFuY0Delx9N",
        "BqNYjRY6obWg",
        "97YRCJypyDim"
      ]
    },
    "kernelspec": {
      "name": "python3",
      "display_name": "Python 3"
    },
    "accelerator": "GPU",
    "widgets": {
      "application/vnd.jupyter.widget-state+json": {
        "0d62446b8e8644faa278c01e34204caf": {
          "model_module": "@jupyter-widgets/controls",
          "model_name": "HBoxModel",
          "state": {
            "_view_name": "HBoxView",
            "_dom_classes": [],
            "_model_name": "HBoxModel",
            "_view_module": "@jupyter-widgets/controls",
            "_model_module_version": "1.5.0",
            "_view_count": null,
            "_view_module_version": "1.5.0",
            "box_style": "",
            "layout": "IPY_MODEL_1cfee508183547d4a8d92d2c92555c3b",
            "_model_module": "@jupyter-widgets/controls",
            "children": [
              "IPY_MODEL_37d78e123ee0407687234ade61bf49cc",
              "IPY_MODEL_99d1a7ed8ada439e96ac8e999735dfee"
            ]
          }
        },
        "1cfee508183547d4a8d92d2c92555c3b": {
          "model_module": "@jupyter-widgets/base",
          "model_name": "LayoutModel",
          "state": {
            "_view_name": "LayoutView",
            "grid_template_rows": null,
            "right": null,
            "justify_content": null,
            "_view_module": "@jupyter-widgets/base",
            "overflow": null,
            "_model_module_version": "1.2.0",
            "_view_count": null,
            "flex_flow": null,
            "width": null,
            "min_width": null,
            "border": null,
            "align_items": null,
            "bottom": null,
            "_model_module": "@jupyter-widgets/base",
            "top": null,
            "grid_column": null,
            "overflow_y": null,
            "overflow_x": null,
            "grid_auto_flow": null,
            "grid_area": null,
            "grid_template_columns": null,
            "flex": null,
            "_model_name": "LayoutModel",
            "justify_items": null,
            "grid_row": null,
            "max_height": null,
            "align_content": null,
            "visibility": null,
            "align_self": null,
            "height": null,
            "min_height": null,
            "padding": null,
            "grid_auto_rows": null,
            "grid_gap": null,
            "max_width": null,
            "order": null,
            "_view_module_version": "1.2.0",
            "grid_template_areas": null,
            "object_position": null,
            "object_fit": null,
            "grid_auto_columns": null,
            "margin": null,
            "display": null,
            "left": null
          }
        },
        "37d78e123ee0407687234ade61bf49cc": {
          "model_module": "@jupyter-widgets/controls",
          "model_name": "FloatProgressModel",
          "state": {
            "_view_name": "ProgressView",
            "style": "IPY_MODEL_2e76b3bdc6f44833a785062e15ec78ef",
            "_dom_classes": [],
            "description": "Downloading: 100%",
            "_model_name": "FloatProgressModel",
            "bar_style": "success",
            "max": 433,
            "_view_module": "@jupyter-widgets/controls",
            "_model_module_version": "1.5.0",
            "value": 433,
            "_view_count": null,
            "_view_module_version": "1.5.0",
            "orientation": "horizontal",
            "min": 0,
            "description_tooltip": null,
            "_model_module": "@jupyter-widgets/controls",
            "layout": "IPY_MODEL_8f2f40b881794c1bab01ebcc4f40bcae"
          }
        },
        "99d1a7ed8ada439e96ac8e999735dfee": {
          "model_module": "@jupyter-widgets/controls",
          "model_name": "HTMLModel",
          "state": {
            "_view_name": "HTMLView",
            "style": "IPY_MODEL_6b20d1fcc6ac4f08b69a91e6076de1f7",
            "_dom_classes": [],
            "description": "",
            "_model_name": "HTMLModel",
            "placeholder": "​",
            "_view_module": "@jupyter-widgets/controls",
            "_model_module_version": "1.5.0",
            "value": " 433/433 [00:04&lt;00:00, 96.4B/s]",
            "_view_count": null,
            "_view_module_version": "1.5.0",
            "description_tooltip": null,
            "_model_module": "@jupyter-widgets/controls",
            "layout": "IPY_MODEL_613285f677a340b598417f15dbb3516f"
          }
        },
        "2e76b3bdc6f44833a785062e15ec78ef": {
          "model_module": "@jupyter-widgets/controls",
          "model_name": "ProgressStyleModel",
          "state": {
            "_view_name": "StyleView",
            "_model_name": "ProgressStyleModel",
            "description_width": "initial",
            "_view_module": "@jupyter-widgets/base",
            "_model_module_version": "1.5.0",
            "_view_count": null,
            "_view_module_version": "1.2.0",
            "bar_color": null,
            "_model_module": "@jupyter-widgets/controls"
          }
        },
        "8f2f40b881794c1bab01ebcc4f40bcae": {
          "model_module": "@jupyter-widgets/base",
          "model_name": "LayoutModel",
          "state": {
            "_view_name": "LayoutView",
            "grid_template_rows": null,
            "right": null,
            "justify_content": null,
            "_view_module": "@jupyter-widgets/base",
            "overflow": null,
            "_model_module_version": "1.2.0",
            "_view_count": null,
            "flex_flow": null,
            "width": null,
            "min_width": null,
            "border": null,
            "align_items": null,
            "bottom": null,
            "_model_module": "@jupyter-widgets/base",
            "top": null,
            "grid_column": null,
            "overflow_y": null,
            "overflow_x": null,
            "grid_auto_flow": null,
            "grid_area": null,
            "grid_template_columns": null,
            "flex": null,
            "_model_name": "LayoutModel",
            "justify_items": null,
            "grid_row": null,
            "max_height": null,
            "align_content": null,
            "visibility": null,
            "align_self": null,
            "height": null,
            "min_height": null,
            "padding": null,
            "grid_auto_rows": null,
            "grid_gap": null,
            "max_width": null,
            "order": null,
            "_view_module_version": "1.2.0",
            "grid_template_areas": null,
            "object_position": null,
            "object_fit": null,
            "grid_auto_columns": null,
            "margin": null,
            "display": null,
            "left": null
          }
        },
        "6b20d1fcc6ac4f08b69a91e6076de1f7": {
          "model_module": "@jupyter-widgets/controls",
          "model_name": "DescriptionStyleModel",
          "state": {
            "_view_name": "StyleView",
            "_model_name": "DescriptionStyleModel",
            "description_width": "",
            "_view_module": "@jupyter-widgets/base",
            "_model_module_version": "1.5.0",
            "_view_count": null,
            "_view_module_version": "1.2.0",
            "_model_module": "@jupyter-widgets/controls"
          }
        },
        "613285f677a340b598417f15dbb3516f": {
          "model_module": "@jupyter-widgets/base",
          "model_name": "LayoutModel",
          "state": {
            "_view_name": "LayoutView",
            "grid_template_rows": null,
            "right": null,
            "justify_content": null,
            "_view_module": "@jupyter-widgets/base",
            "overflow": null,
            "_model_module_version": "1.2.0",
            "_view_count": null,
            "flex_flow": null,
            "width": null,
            "min_width": null,
            "border": null,
            "align_items": null,
            "bottom": null,
            "_model_module": "@jupyter-widgets/base",
            "top": null,
            "grid_column": null,
            "overflow_y": null,
            "overflow_x": null,
            "grid_auto_flow": null,
            "grid_area": null,
            "grid_template_columns": null,
            "flex": null,
            "_model_name": "LayoutModel",
            "justify_items": null,
            "grid_row": null,
            "max_height": null,
            "align_content": null,
            "visibility": null,
            "align_self": null,
            "height": null,
            "min_height": null,
            "padding": null,
            "grid_auto_rows": null,
            "grid_gap": null,
            "max_width": null,
            "order": null,
            "_view_module_version": "1.2.0",
            "grid_template_areas": null,
            "object_position": null,
            "object_fit": null,
            "grid_auto_columns": null,
            "margin": null,
            "display": null,
            "left": null
          }
        },
        "9faf5595000941c2959550456c271acd": {
          "model_module": "@jupyter-widgets/controls",
          "model_name": "HBoxModel",
          "state": {
            "_view_name": "HBoxView",
            "_dom_classes": [],
            "_model_name": "HBoxModel",
            "_view_module": "@jupyter-widgets/controls",
            "_model_module_version": "1.5.0",
            "_view_count": null,
            "_view_module_version": "1.5.0",
            "box_style": "",
            "layout": "IPY_MODEL_c69bfbc724f1488eaf60008512f295a6",
            "_model_module": "@jupyter-widgets/controls",
            "children": [
              "IPY_MODEL_2b94c137fda74ff68760d609c73fd260",
              "IPY_MODEL_a000c8a74dac48f1a12771ebca5e1fac"
            ]
          }
        },
        "c69bfbc724f1488eaf60008512f295a6": {
          "model_module": "@jupyter-widgets/base",
          "model_name": "LayoutModel",
          "state": {
            "_view_name": "LayoutView",
            "grid_template_rows": null,
            "right": null,
            "justify_content": null,
            "_view_module": "@jupyter-widgets/base",
            "overflow": null,
            "_model_module_version": "1.2.0",
            "_view_count": null,
            "flex_flow": null,
            "width": null,
            "min_width": null,
            "border": null,
            "align_items": null,
            "bottom": null,
            "_model_module": "@jupyter-widgets/base",
            "top": null,
            "grid_column": null,
            "overflow_y": null,
            "overflow_x": null,
            "grid_auto_flow": null,
            "grid_area": null,
            "grid_template_columns": null,
            "flex": null,
            "_model_name": "LayoutModel",
            "justify_items": null,
            "grid_row": null,
            "max_height": null,
            "align_content": null,
            "visibility": null,
            "align_self": null,
            "height": null,
            "min_height": null,
            "padding": null,
            "grid_auto_rows": null,
            "grid_gap": null,
            "max_width": null,
            "order": null,
            "_view_module_version": "1.2.0",
            "grid_template_areas": null,
            "object_position": null,
            "object_fit": null,
            "grid_auto_columns": null,
            "margin": null,
            "display": null,
            "left": null
          }
        },
        "2b94c137fda74ff68760d609c73fd260": {
          "model_module": "@jupyter-widgets/controls",
          "model_name": "FloatProgressModel",
          "state": {
            "_view_name": "ProgressView",
            "style": "IPY_MODEL_0e6a5ad2eda14e608b4bbb791d6d679d",
            "_dom_classes": [],
            "description": "Downloading: 100%",
            "_model_name": "FloatProgressModel",
            "bar_style": "success",
            "max": 231508,
            "_view_module": "@jupyter-widgets/controls",
            "_model_module_version": "1.5.0",
            "value": 231508,
            "_view_count": null,
            "_view_module_version": "1.5.0",
            "orientation": "horizontal",
            "min": 0,
            "description_tooltip": null,
            "_model_module": "@jupyter-widgets/controls",
            "layout": "IPY_MODEL_2e9dd2abad3440efb20c61976e84db3d"
          }
        },
        "a000c8a74dac48f1a12771ebca5e1fac": {
          "model_module": "@jupyter-widgets/controls",
          "model_name": "HTMLModel",
          "state": {
            "_view_name": "HTMLView",
            "style": "IPY_MODEL_7bb1a3e0a612451c9185a8637d4c031a",
            "_dom_classes": [],
            "description": "",
            "_model_name": "HTMLModel",
            "placeholder": "​",
            "_view_module": "@jupyter-widgets/controls",
            "_model_module_version": "1.5.0",
            "value": " 232k/232k [00:00&lt;00:00, 795kB/s]",
            "_view_count": null,
            "_view_module_version": "1.5.0",
            "description_tooltip": null,
            "_model_module": "@jupyter-widgets/controls",
            "layout": "IPY_MODEL_7ee78a7166034573b6f50661332172f0"
          }
        },
        "0e6a5ad2eda14e608b4bbb791d6d679d": {
          "model_module": "@jupyter-widgets/controls",
          "model_name": "ProgressStyleModel",
          "state": {
            "_view_name": "StyleView",
            "_model_name": "ProgressStyleModel",
            "description_width": "initial",
            "_view_module": "@jupyter-widgets/base",
            "_model_module_version": "1.5.0",
            "_view_count": null,
            "_view_module_version": "1.2.0",
            "bar_color": null,
            "_model_module": "@jupyter-widgets/controls"
          }
        },
        "2e9dd2abad3440efb20c61976e84db3d": {
          "model_module": "@jupyter-widgets/base",
          "model_name": "LayoutModel",
          "state": {
            "_view_name": "LayoutView",
            "grid_template_rows": null,
            "right": null,
            "justify_content": null,
            "_view_module": "@jupyter-widgets/base",
            "overflow": null,
            "_model_module_version": "1.2.0",
            "_view_count": null,
            "flex_flow": null,
            "width": null,
            "min_width": null,
            "border": null,
            "align_items": null,
            "bottom": null,
            "_model_module": "@jupyter-widgets/base",
            "top": null,
            "grid_column": null,
            "overflow_y": null,
            "overflow_x": null,
            "grid_auto_flow": null,
            "grid_area": null,
            "grid_template_columns": null,
            "flex": null,
            "_model_name": "LayoutModel",
            "justify_items": null,
            "grid_row": null,
            "max_height": null,
            "align_content": null,
            "visibility": null,
            "align_self": null,
            "height": null,
            "min_height": null,
            "padding": null,
            "grid_auto_rows": null,
            "grid_gap": null,
            "max_width": null,
            "order": null,
            "_view_module_version": "1.2.0",
            "grid_template_areas": null,
            "object_position": null,
            "object_fit": null,
            "grid_auto_columns": null,
            "margin": null,
            "display": null,
            "left": null
          }
        },
        "7bb1a3e0a612451c9185a8637d4c031a": {
          "model_module": "@jupyter-widgets/controls",
          "model_name": "DescriptionStyleModel",
          "state": {
            "_view_name": "StyleView",
            "_model_name": "DescriptionStyleModel",
            "description_width": "",
            "_view_module": "@jupyter-widgets/base",
            "_model_module_version": "1.5.0",
            "_view_count": null,
            "_view_module_version": "1.2.0",
            "_model_module": "@jupyter-widgets/controls"
          }
        },
        "7ee78a7166034573b6f50661332172f0": {
          "model_module": "@jupyter-widgets/base",
          "model_name": "LayoutModel",
          "state": {
            "_view_name": "LayoutView",
            "grid_template_rows": null,
            "right": null,
            "justify_content": null,
            "_view_module": "@jupyter-widgets/base",
            "overflow": null,
            "_model_module_version": "1.2.0",
            "_view_count": null,
            "flex_flow": null,
            "width": null,
            "min_width": null,
            "border": null,
            "align_items": null,
            "bottom": null,
            "_model_module": "@jupyter-widgets/base",
            "top": null,
            "grid_column": null,
            "overflow_y": null,
            "overflow_x": null,
            "grid_auto_flow": null,
            "grid_area": null,
            "grid_template_columns": null,
            "flex": null,
            "_model_name": "LayoutModel",
            "justify_items": null,
            "grid_row": null,
            "max_height": null,
            "align_content": null,
            "visibility": null,
            "align_self": null,
            "height": null,
            "min_height": null,
            "padding": null,
            "grid_auto_rows": null,
            "grid_gap": null,
            "max_width": null,
            "order": null,
            "_view_module_version": "1.2.0",
            "grid_template_areas": null,
            "object_position": null,
            "object_fit": null,
            "grid_auto_columns": null,
            "margin": null,
            "display": null,
            "left": null
          }
        },
        "693c47c1808040a7a2c62ab8a55d6f21": {
          "model_module": "@jupyter-widgets/controls",
          "model_name": "HBoxModel",
          "state": {
            "_view_name": "HBoxView",
            "_dom_classes": [],
            "_model_name": "HBoxModel",
            "_view_module": "@jupyter-widgets/controls",
            "_model_module_version": "1.5.0",
            "_view_count": null,
            "_view_module_version": "1.5.0",
            "box_style": "",
            "layout": "IPY_MODEL_0cbe666f44934b3097265ecdea469d99",
            "_model_module": "@jupyter-widgets/controls",
            "children": [
              "IPY_MODEL_0ba5b3754b464e74b8d7dff339c19b46",
              "IPY_MODEL_ea48375bb1064f67b2cd76acdba4c1e9"
            ]
          }
        },
        "0cbe666f44934b3097265ecdea469d99": {
          "model_module": "@jupyter-widgets/base",
          "model_name": "LayoutModel",
          "state": {
            "_view_name": "LayoutView",
            "grid_template_rows": null,
            "right": null,
            "justify_content": null,
            "_view_module": "@jupyter-widgets/base",
            "overflow": null,
            "_model_module_version": "1.2.0",
            "_view_count": null,
            "flex_flow": null,
            "width": null,
            "min_width": null,
            "border": null,
            "align_items": null,
            "bottom": null,
            "_model_module": "@jupyter-widgets/base",
            "top": null,
            "grid_column": null,
            "overflow_y": null,
            "overflow_x": null,
            "grid_auto_flow": null,
            "grid_area": null,
            "grid_template_columns": null,
            "flex": null,
            "_model_name": "LayoutModel",
            "justify_items": null,
            "grid_row": null,
            "max_height": null,
            "align_content": null,
            "visibility": null,
            "align_self": null,
            "height": null,
            "min_height": null,
            "padding": null,
            "grid_auto_rows": null,
            "grid_gap": null,
            "max_width": null,
            "order": null,
            "_view_module_version": "1.2.0",
            "grid_template_areas": null,
            "object_position": null,
            "object_fit": null,
            "grid_auto_columns": null,
            "margin": null,
            "display": null,
            "left": null
          }
        },
        "0ba5b3754b464e74b8d7dff339c19b46": {
          "model_module": "@jupyter-widgets/controls",
          "model_name": "FloatProgressModel",
          "state": {
            "_view_name": "ProgressView",
            "style": "IPY_MODEL_fde34ad77140459a9352437331a22029",
            "_dom_classes": [],
            "description": "Downloading: 100%",
            "_model_name": "FloatProgressModel",
            "bar_style": "success",
            "max": 440473133,
            "_view_module": "@jupyter-widgets/controls",
            "_model_module_version": "1.5.0",
            "value": 440473133,
            "_view_count": null,
            "_view_module_version": "1.5.0",
            "orientation": "horizontal",
            "min": 0,
            "description_tooltip": null,
            "_model_module": "@jupyter-widgets/controls",
            "layout": "IPY_MODEL_ae93560b004941b6b141203ca5fc1f9d"
          }
        },
        "ea48375bb1064f67b2cd76acdba4c1e9": {
          "model_module": "@jupyter-widgets/controls",
          "model_name": "HTMLModel",
          "state": {
            "_view_name": "HTMLView",
            "style": "IPY_MODEL_300a7ec5c5f34dce8181fcc2bc3102cc",
            "_dom_classes": [],
            "description": "",
            "_model_name": "HTMLModel",
            "placeholder": "​",
            "_view_module": "@jupyter-widgets/controls",
            "_model_module_version": "1.5.0",
            "value": " 440M/440M [00:07&lt;00:00, 61.4MB/s]",
            "_view_count": null,
            "_view_module_version": "1.5.0",
            "description_tooltip": null,
            "_model_module": "@jupyter-widgets/controls",
            "layout": "IPY_MODEL_de8057930ceb47c98ef5c935e1edcaa0"
          }
        },
        "fde34ad77140459a9352437331a22029": {
          "model_module": "@jupyter-widgets/controls",
          "model_name": "ProgressStyleModel",
          "state": {
            "_view_name": "StyleView",
            "_model_name": "ProgressStyleModel",
            "description_width": "initial",
            "_view_module": "@jupyter-widgets/base",
            "_model_module_version": "1.5.0",
            "_view_count": null,
            "_view_module_version": "1.2.0",
            "bar_color": null,
            "_model_module": "@jupyter-widgets/controls"
          }
        },
        "ae93560b004941b6b141203ca5fc1f9d": {
          "model_module": "@jupyter-widgets/base",
          "model_name": "LayoutModel",
          "state": {
            "_view_name": "LayoutView",
            "grid_template_rows": null,
            "right": null,
            "justify_content": null,
            "_view_module": "@jupyter-widgets/base",
            "overflow": null,
            "_model_module_version": "1.2.0",
            "_view_count": null,
            "flex_flow": null,
            "width": null,
            "min_width": null,
            "border": null,
            "align_items": null,
            "bottom": null,
            "_model_module": "@jupyter-widgets/base",
            "top": null,
            "grid_column": null,
            "overflow_y": null,
            "overflow_x": null,
            "grid_auto_flow": null,
            "grid_area": null,
            "grid_template_columns": null,
            "flex": null,
            "_model_name": "LayoutModel",
            "justify_items": null,
            "grid_row": null,
            "max_height": null,
            "align_content": null,
            "visibility": null,
            "align_self": null,
            "height": null,
            "min_height": null,
            "padding": null,
            "grid_auto_rows": null,
            "grid_gap": null,
            "max_width": null,
            "order": null,
            "_view_module_version": "1.2.0",
            "grid_template_areas": null,
            "object_position": null,
            "object_fit": null,
            "grid_auto_columns": null,
            "margin": null,
            "display": null,
            "left": null
          }
        },
        "300a7ec5c5f34dce8181fcc2bc3102cc": {
          "model_module": "@jupyter-widgets/controls",
          "model_name": "DescriptionStyleModel",
          "state": {
            "_view_name": "StyleView",
            "_model_name": "DescriptionStyleModel",
            "description_width": "",
            "_view_module": "@jupyter-widgets/base",
            "_model_module_version": "1.5.0",
            "_view_count": null,
            "_view_module_version": "1.2.0",
            "_model_module": "@jupyter-widgets/controls"
          }
        },
        "de8057930ceb47c98ef5c935e1edcaa0": {
          "model_module": "@jupyter-widgets/base",
          "model_name": "LayoutModel",
          "state": {
            "_view_name": "LayoutView",
            "grid_template_rows": null,
            "right": null,
            "justify_content": null,
            "_view_module": "@jupyter-widgets/base",
            "overflow": null,
            "_model_module_version": "1.2.0",
            "_view_count": null,
            "flex_flow": null,
            "width": null,
            "min_width": null,
            "border": null,
            "align_items": null,
            "bottom": null,
            "_model_module": "@jupyter-widgets/base",
            "top": null,
            "grid_column": null,
            "overflow_y": null,
            "overflow_x": null,
            "grid_auto_flow": null,
            "grid_area": null,
            "grid_template_columns": null,
            "flex": null,
            "_model_name": "LayoutModel",
            "justify_items": null,
            "grid_row": null,
            "max_height": null,
            "align_content": null,
            "visibility": null,
            "align_self": null,
            "height": null,
            "min_height": null,
            "padding": null,
            "grid_auto_rows": null,
            "grid_gap": null,
            "max_width": null,
            "order": null,
            "_view_module_version": "1.2.0",
            "grid_template_areas": null,
            "object_position": null,
            "object_fit": null,
            "grid_auto_columns": null,
            "margin": null,
            "display": null,
            "left": null
          }
        }
      }
    }
  },
  "cells": [
    {
      "cell_type": "markdown",
      "metadata": {
        "id": "Uh460XRkA6lS"
      },
      "source": [
        "\r\n",
        "\r\n",
        "---\r\n",
        "**I have used Eurparl monolingual dataset for english language with 9672 text files.**\r\n",
        "\r\n",
        "*1. The whole dataset is stored as one sentence per row and BertLM model is fine tuned on same and saved in the directory for 300000 steps*\r\n",
        "\r\n",
        "\r\n",
        "---\r\n",
        "\r\n"
      ]
    },
    {
      "cell_type": "markdown",
      "metadata": {
        "id": "1OiBwaz8lP4r"
      },
      "source": [
        "Downloading important packages  **[Run these cells]**\r\n",
        "---\r\n",
        "\r\n"
      ]
    },
    {
      "cell_type": "code",
      "metadata": {
        "colab": {
          "base_uri": "https://localhost:8080/"
        },
        "id": "Fiz-2EF9Q5ZO",
        "outputId": "054ffd1b-7743-4603-a2ea-a5686337c18a"
      },
      "source": [
        "! pip install beautifulsoup4  ## beautifulsoup package to handle the tags in the given text files"
      ],
      "execution_count": 1,
      "outputs": [
        {
          "output_type": "stream",
          "text": [
            "Requirement already satisfied: beautifulsoup4 in /usr/local/lib/python3.6/dist-packages (4.6.3)\n"
          ],
          "name": "stdout"
        }
      ]
    },
    {
      "cell_type": "code",
      "metadata": {
        "colab": {
          "base_uri": "https://localhost:8080/"
        },
        "id": "lnuPqhUEJkP6",
        "outputId": "e2cf73c0-23a8-4aaa-d409-d62dbe221ae7"
      },
      "source": [
        "pip install nltk  ## downloading nltk package for stopwords and stemming "
      ],
      "execution_count": 2,
      "outputs": [
        {
          "output_type": "stream",
          "text": [
            "Requirement already satisfied: nltk in /usr/local/lib/python3.6/dist-packages (3.2.5)\n",
            "Requirement already satisfied: six in /usr/local/lib/python3.6/dist-packages (from nltk) (1.15.0)\n"
          ],
          "name": "stdout"
        }
      ]
    },
    {
      "cell_type": "code",
      "metadata": {
        "colab": {
          "base_uri": "https://localhost:8080/"
        },
        "id": "wYyqHrHFmv3o",
        "outputId": "6f368b38-5321-4f24-e017-47a75014a9d7"
      },
      "source": [
        "pip install transformers ## downloading transformers package to fine tune the pretrained Bert model on Language modeling task"
      ],
      "execution_count": 3,
      "outputs": [
        {
          "output_type": "stream",
          "text": [
            "Collecting transformers\n",
            "\u001b[?25l  Downloading https://files.pythonhosted.org/packages/88/b1/41130a228dd656a1a31ba281598a968320283f48d42782845f6ba567f00b/transformers-4.2.2-py3-none-any.whl (1.8MB)\n",
            "\u001b[K     |████████████████████████████████| 1.8MB 15.7MB/s \n",
            "\u001b[?25hRequirement already satisfied: filelock in /usr/local/lib/python3.6/dist-packages (from transformers) (3.0.12)\n",
            "Requirement already satisfied: dataclasses; python_version < \"3.7\" in /usr/local/lib/python3.6/dist-packages (from transformers) (0.8)\n",
            "Requirement already satisfied: requests in /usr/local/lib/python3.6/dist-packages (from transformers) (2.23.0)\n",
            "Requirement already satisfied: regex!=2019.12.17 in /usr/local/lib/python3.6/dist-packages (from transformers) (2019.12.20)\n",
            "Requirement already satisfied: importlib-metadata; python_version < \"3.8\" in /usr/local/lib/python3.6/dist-packages (from transformers) (3.4.0)\n",
            "Collecting sacremoses\n",
            "\u001b[?25l  Downloading https://files.pythonhosted.org/packages/7d/34/09d19aff26edcc8eb2a01bed8e98f13a1537005d31e95233fd48216eed10/sacremoses-0.0.43.tar.gz (883kB)\n",
            "\u001b[K     |████████████████████████████████| 890kB 55.9MB/s \n",
            "\u001b[?25hCollecting tokenizers==0.9.4\n",
            "\u001b[?25l  Downloading https://files.pythonhosted.org/packages/0f/1c/e789a8b12e28be5bc1ce2156cf87cb522b379be9cadc7ad8091a4cc107c4/tokenizers-0.9.4-cp36-cp36m-manylinux2010_x86_64.whl (2.9MB)\n",
            "\u001b[K     |████████████████████████████████| 2.9MB 47.3MB/s \n",
            "\u001b[?25hRequirement already satisfied: tqdm>=4.27 in /usr/local/lib/python3.6/dist-packages (from transformers) (4.41.1)\n",
            "Requirement already satisfied: numpy in /usr/local/lib/python3.6/dist-packages (from transformers) (1.19.5)\n",
            "Requirement already satisfied: packaging in /usr/local/lib/python3.6/dist-packages (from transformers) (20.9)\n",
            "Requirement already satisfied: chardet<4,>=3.0.2 in /usr/local/lib/python3.6/dist-packages (from requests->transformers) (3.0.4)\n",
            "Requirement already satisfied: idna<3,>=2.5 in /usr/local/lib/python3.6/dist-packages (from requests->transformers) (2.10)\n",
            "Requirement already satisfied: urllib3!=1.25.0,!=1.25.1,<1.26,>=1.21.1 in /usr/local/lib/python3.6/dist-packages (from requests->transformers) (1.24.3)\n",
            "Requirement already satisfied: certifi>=2017.4.17 in /usr/local/lib/python3.6/dist-packages (from requests->transformers) (2020.12.5)\n",
            "Requirement already satisfied: typing-extensions>=3.6.4; python_version < \"3.8\" in /usr/local/lib/python3.6/dist-packages (from importlib-metadata; python_version < \"3.8\"->transformers) (3.7.4.3)\n",
            "Requirement already satisfied: zipp>=0.5 in /usr/local/lib/python3.6/dist-packages (from importlib-metadata; python_version < \"3.8\"->transformers) (3.4.0)\n",
            "Requirement already satisfied: six in /usr/local/lib/python3.6/dist-packages (from sacremoses->transformers) (1.15.0)\n",
            "Requirement already satisfied: click in /usr/local/lib/python3.6/dist-packages (from sacremoses->transformers) (7.1.2)\n",
            "Requirement already satisfied: joblib in /usr/local/lib/python3.6/dist-packages (from sacremoses->transformers) (1.0.0)\n",
            "Requirement already satisfied: pyparsing>=2.0.2 in /usr/local/lib/python3.6/dist-packages (from packaging->transformers) (2.4.7)\n",
            "Building wheels for collected packages: sacremoses\n",
            "  Building wheel for sacremoses (setup.py) ... \u001b[?25l\u001b[?25hdone\n",
            "  Created wheel for sacremoses: filename=sacremoses-0.0.43-cp36-none-any.whl size=893261 sha256=5865c014a00a1403d9f5084c94938234a2cc0119ee133e912ff082404523f1cc\n",
            "  Stored in directory: /root/.cache/pip/wheels/29/3c/fd/7ce5c3f0666dab31a50123635e6fb5e19ceb42ce38d4e58f45\n",
            "Successfully built sacremoses\n",
            "Installing collected packages: sacremoses, tokenizers, transformers\n",
            "Successfully installed sacremoses-0.0.43 tokenizers-0.9.4 transformers-4.2.2\n"
          ],
          "name": "stdout"
        }
      ]
    },
    {
      "cell_type": "markdown",
      "metadata": {
        "id": "3YFuY0Delx9N"
      },
      "source": [
        "Importing libraries **[Run these cells]**\r\n",
        "---\r\n",
        "\r\n"
      ]
    },
    {
      "cell_type": "code",
      "metadata": {
        "id": "dhRRNTkgNXMt"
      },
      "source": [
        "import torch \r\n",
        "import pickle\r\n",
        "import os\r\n",
        "import re\r\n",
        "import tqdm as tqdm\r\n",
        "import pandas as pd\r\n",
        "import numpy as np\r\n",
        "import random\r\n",
        "import nltk\r\n",
        "from google.colab import drive\r\n",
        "from pathlib import Path\r\n",
        "from bs4 import BeautifulSoup\r\n",
        "# from functools import reduce\r\n",
        "from nltk.stem import LancasterStemmer\r\n",
        "from nltk.corpus import stopwords\r\n",
        "nltk.download('stopwords')\r\n",
        "\r\n",
        "drive.mount('/content/drive')"
      ],
      "execution_count": null,
      "outputs": []
    },
    {
      "cell_type": "code",
      "metadata": {
        "id": "HOvdTRNhC4RJ"
      },
      "source": [
        "root ='/content/drive/My Drive/Colab Notebooks/Task2-Fine Tune BERT/'"
      ],
      "execution_count": 6,
      "outputs": []
    },
    {
      "cell_type": "markdown",
      "metadata": {
        "id": "i_T1DKtlMDtz"
      },
      "source": [
        "Preprocessing and storing data in pickle \r\n",
        "---\r\n",
        "\r\n"
      ]
    },
    {
      "cell_type": "code",
      "metadata": {
        "colab": {
          "base_uri": "https://localhost:8080/",
          "height": 35
        },
        "id": "23WVbOh-Uf-b",
        "outputId": "f3f0b44d-7139-43d9-9595-fe712861d35d"
      },
      "source": [
        "os.getcwd()"
      ],
      "execution_count": null,
      "outputs": [
        {
          "output_type": "execute_result",
          "data": {
            "application/vnd.google.colaboratory.intrinsic+json": {
              "type": "string"
            },
            "text/plain": [
              "'/content/drive/My Drive/Colab Notebooks/Task2-Fine Tune BERT'"
            ]
          },
          "metadata": {
            "tags": []
          },
          "execution_count": 5
        }
      ]
    },
    {
      "cell_type": "code",
      "metadata": {
        "colab": {
          "base_uri": "https://localhost:8080/"
        },
        "id": "UuYOtupZQtYd",
        "outputId": "299fb3e3-063c-40ee-af6f-78ac83569ffa"
      },
      "source": [
        "############################  pre-processing the texts from each file and storing in dataframe with one sentence as one row  ######\r\n",
        "#  Preprocessing steps:\r\n",
        "#  1. Remove chapter names from the text\r\n",
        "#  2. Split text on newline --> generates list of all rows\r\n",
        "#  3. Remove Blank strings from output of previous step --> Contains non-empty rows\r\n",
        "#  4. Splitting the senteces based on fullstop followed by a space --> Splitting sentences present in each row\r\n",
        "#  5. Flatten the nested list into one list\r\n",
        "#  6. Store the list in dataframe with one sentence per row\r\n",
        "\r\n",
        "df = pd.DataFrame(columns=['sentences'])\r\n",
        "count = 0\r\n",
        "os.chdir(os.path.join(os.getcwd(),'en/'))\r\n",
        "files = os.listdir()\r\n",
        "for item in tqdm.tqdm(files):\r\n",
        "  # print(item)\r\n",
        "  contents = Path(os.path.join(os.getcwd(),item)).read_text()\r\n",
        "  contents = re.sub(r'(\\<CHAPTER.*?)\\n(.*)(\\n<SPEAKER.*)','\\\\1\\\\3',contents) ##remove the chapter names\r\n",
        "  soup=BeautifulSoup(contents)\r\n",
        "  text = str(soup.text).split('\\n') # splits the text on new line\r\n",
        "  text = list(filter(None, text)) # removes blank strings\r\n",
        "  text = [sentence.split('. ') for sentence in text] # split sentences on fullstop followed by space\r\n",
        "\r\n",
        "  text = reduce(lambda x,y: x+y,text) #convert nested lists into one list\r\n",
        "  df2 = pd.DataFrame(text,columns=['sentences'])\r\n",
        "  df = df.append(df2)\r\n"
      ],
      "execution_count": null,
      "outputs": [
        {
          "output_type": "stream",
          "text": [
            "100%|██████████| 9672/9672 [3:07:24<00:00,  1.16s/it]\n"
          ],
          "name": "stderr"
        }
      ]
    },
    {
      "cell_type": "code",
      "metadata": {
        "id": "Ac4EacWDfeuM"
      },
      "source": [
        "# ############################### save the dataframe as pickle file ########################################\r\n",
        "open_file = open(os.path.join(root,'dataset_in_dataframe.pkl'), \"wb\")\r\n",
        "pickle.dump(df, open_file)"
      ],
      "execution_count": null,
      "outputs": []
    },
    {
      "cell_type": "markdown",
      "metadata": {
        "id": "J0Q6JL4iYS_R"
      },
      "source": [
        "# BERT fine tuning \r\n",
        "---\r\n",
        "\r\n"
      ]
    },
    {
      "cell_type": "markdown",
      "metadata": {
        "id": "BqNYjRY6obWg"
      },
      "source": [
        "Reading the stored dataset in form of sentences per row (dataframe) and Determining the common sentence length\r\n",
        "---\r\n",
        "\r\n"
      ]
    },
    {
      "cell_type": "code",
      "metadata": {
        "id": "Vztj_-GgtNvK"
      },
      "source": [
        "############################## read the saved pickle file and store the dataset in variable df #########################################\r\n",
        "\r\n",
        "open_file = open(os.path.join(root,'dataset_in_dataframe.pkl'), \"rb\")\r\n",
        "df = pickle.load(open_file)"
      ],
      "execution_count": null,
      "outputs": []
    },
    {
      "cell_type": "code",
      "metadata": {
        "id": "-d5P35jD8b9f"
      },
      "source": [
        "############################## reindex the dataframe index to length of dataframe\r\n",
        "index = [i for i in range(0,len(df))]\r\n",
        "np.max(index)\r\n",
        "df = df.reset_index(drop=True)\r\n",
        "df = df.reindex(index)"
      ],
      "execution_count": null,
      "outputs": []
    },
    {
      "cell_type": "code",
      "metadata": {
        "colab": {
          "base_uri": "https://localhost:8080/"
        },
        "id": "JnrTX35VdhVi",
        "outputId": "cb6e6b75-a7ea-4831-979e-049e68cbc011"
      },
      "source": [
        "length = [len(sentence.split()) for i,sentence in enumerate(df['sentences'])]\r\n",
        "max(set(length), key = length.count)\r\n",
        "# np.bincount(np.array(length)).argmax()\r\n"
      ],
      "execution_count": null,
      "outputs": [
        {
          "output_type": "execute_result",
          "data": {
            "text/plain": [
              "17"
            ]
          },
          "metadata": {
            "tags": []
          },
          "execution_count": 16
        }
      ]
    },
    {
      "cell_type": "code",
      "metadata": {
        "id": "ZNw72kD0dLDp"
      },
      "source": [
        "max_seq_length = 30 #512 "
      ],
      "execution_count": null,
      "outputs": []
    },
    {
      "cell_type": "markdown",
      "metadata": {
        "id": "yts9aOQ1vSwB"
      },
      "source": [
        "Importing nesessary methods for Bert training and Configuration\r\n",
        "---\r\n",
        "\r\n"
      ]
    },
    {
      "cell_type": "code",
      "metadata": {
        "id": "ThN9Kr4sZ_qW"
      },
      "source": [
        "########### import important methods related to Bert model ########################\r\n",
        "\r\n",
        "from transformers import (\r\n",
        "    BertTokenizer,    # for tokenizing the text\r\n",
        "    BertConfig,       # for retrieving the model configuration\r\n",
        "    BertForMaskedLM,  # Masked language model for letting the model understand our corpus [fine-tuning]\r\n",
        "    DataCollatorForLanguageModeling,  # for language modeling task. Takes list of samples from a Dataset and collate them into a batch\r\n",
        "    Trainer,          # Used to train the specified model on given dataset and customized training arguments\r\n",
        "    TrainingArguments # Used to customize the training parameters like epochs, save logs etc.\r\n",
        ")"
      ],
      "execution_count": null,
      "outputs": []
    },
    {
      "cell_type": "code",
      "metadata": {
        "colab": {
          "base_uri": "https://localhost:8080/",
          "height": 66,
          "referenced_widgets": [
            "0d62446b8e8644faa278c01e34204caf",
            "1cfee508183547d4a8d92d2c92555c3b",
            "37d78e123ee0407687234ade61bf49cc",
            "99d1a7ed8ada439e96ac8e999735dfee",
            "2e76b3bdc6f44833a785062e15ec78ef",
            "8f2f40b881794c1bab01ebcc4f40bcae",
            "6b20d1fcc6ac4f08b69a91e6076de1f7",
            "613285f677a340b598417f15dbb3516f"
          ]
        },
        "id": "5tEORTvig9bo",
        "outputId": "1af67407-4b49-4dcc-e781-c6abfccb20f2"
      },
      "source": [
        "######### Getting configuration of pretrained model 'bert-base-uncased' \r\n",
        "######### [uncased: no difference between english and English]\r\n",
        "\r\n",
        "config = BertConfig.from_pretrained('bert-base-uncased')"
      ],
      "execution_count": null,
      "outputs": [
        {
          "output_type": "display_data",
          "data": {
            "application/vnd.jupyter.widget-view+json": {
              "model_id": "0d62446b8e8644faa278c01e34204caf",
              "version_minor": 0,
              "version_major": 2
            },
            "text/plain": [
              "HBox(children=(FloatProgress(value=0.0, description='Downloading', max=433.0, style=ProgressStyle(description_…"
            ]
          },
          "metadata": {
            "tags": []
          }
        },
        {
          "output_type": "stream",
          "text": [
            "\n"
          ],
          "name": "stdout"
        }
      ]
    },
    {
      "cell_type": "code",
      "metadata": {
        "id": "gyjQkjQOhZta",
        "colab": {
          "base_uri": "https://localhost:8080/",
          "height": 66,
          "referenced_widgets": [
            "9faf5595000941c2959550456c271acd",
            "c69bfbc724f1488eaf60008512f295a6",
            "2b94c137fda74ff68760d609c73fd260",
            "a000c8a74dac48f1a12771ebca5e1fac",
            "0e6a5ad2eda14e608b4bbb791d6d679d",
            "2e9dd2abad3440efb20c61976e84db3d",
            "7bb1a3e0a612451c9185a8637d4c031a",
            "7ee78a7166034573b6f50661332172f0"
          ]
        },
        "outputId": "88213a51-8979-408f-e604-de4344e7bcf1"
      },
      "source": [
        "######### Getting tokenizer from pretrained model 'bert-base-uncased'\r\n",
        "\r\n",
        "tokenizer = BertTokenizer.from_pretrained('bert-base-uncased')"
      ],
      "execution_count": null,
      "outputs": [
        {
          "output_type": "display_data",
          "data": {
            "application/vnd.jupyter.widget-view+json": {
              "model_id": "9faf5595000941c2959550456c271acd",
              "version_minor": 0,
              "version_major": 2
            },
            "text/plain": [
              "HBox(children=(FloatProgress(value=0.0, description='Downloading', max=231508.0, style=ProgressStyle(descripti…"
            ]
          },
          "metadata": {
            "tags": []
          }
        },
        {
          "output_type": "stream",
          "text": [
            "\n"
          ],
          "name": "stdout"
        }
      ]
    },
    {
      "cell_type": "code",
      "metadata": {
        "colab": {
          "base_uri": "https://localhost:8080/",
          "height": 137,
          "referenced_widgets": [
            "693c47c1808040a7a2c62ab8a55d6f21",
            "0cbe666f44934b3097265ecdea469d99",
            "0ba5b3754b464e74b8d7dff339c19b46",
            "ea48375bb1064f67b2cd76acdba4c1e9",
            "fde34ad77140459a9352437331a22029",
            "ae93560b004941b6b141203ca5fc1f9d",
            "300a7ec5c5f34dce8181fcc2bc3102cc",
            "de8057930ceb47c98ef5c935e1edcaa0"
          ]
        },
        "id": "aETrwQJhifqY",
        "outputId": "81d9e16f-8048-4c5d-a3e1-0c5939c08fd1"
      },
      "source": [
        "######### getting pretrained masked language model 'bert-base-uncased'\r\n",
        "\r\n",
        "model = BertForMaskedLM.from_pretrained('bert-base-uncased',\r\n",
        "                                        config= config,\r\n",
        "                                        from_tf=bool(\".ckpt\" in 'bert-base-uncased')\r\n",
        "                                        )"
      ],
      "execution_count": null,
      "outputs": [
        {
          "output_type": "display_data",
          "data": {
            "application/vnd.jupyter.widget-view+json": {
              "model_id": "693c47c1808040a7a2c62ab8a55d6f21",
              "version_minor": 0,
              "version_major": 2
            },
            "text/plain": [
              "HBox(children=(FloatProgress(value=0.0, description='Downloading', max=440473133.0, style=ProgressStyle(descri…"
            ]
          },
          "metadata": {
            "tags": []
          }
        },
        {
          "output_type": "stream",
          "text": [
            "\n"
          ],
          "name": "stdout"
        },
        {
          "output_type": "stream",
          "text": [
            "Some weights of the model checkpoint at bert-base-uncased were not used when initializing BertForMaskedLM: ['cls.seq_relationship.weight', 'cls.seq_relationship.bias']\n",
            "- This IS expected if you are initializing BertForMaskedLM from the checkpoint of a model trained on another task or with another architecture (e.g. initializing a BertForSequenceClassification model from a BertForPreTraining model).\n",
            "- This IS NOT expected if you are initializing BertForMaskedLM from the checkpoint of a model that you expect to be exactly identical (initializing a BertForSequenceClassification model from a BertForSequenceClassification model).\n"
          ],
          "name": "stderr"
        }
      ]
    },
    {
      "cell_type": "code",
      "metadata": {
        "id": "hOxq1EStan47"
      },
      "source": [
        "# model.resize_token_embeddings(len(tokenizer))"
      ],
      "execution_count": null,
      "outputs": []
    },
    {
      "cell_type": "code",
      "metadata": {
        "id": "S7aQ6TGVrhby"
      },
      "source": [
        "# tokenizer.model_max_length"
      ],
      "execution_count": null,
      "outputs": []
    },
    {
      "cell_type": "code",
      "metadata": {
        "id": "qvTyzV6Op0MU"
      },
      "source": [
        "###### Instantiating Data collator \r\n",
        "# Used to form a batch from a list of elements of train_dataset or eval_dataset\r\n",
        "# Provided the pretrained bert tokenizer and Masking 15% of the tokens of a sentence\r\n",
        "\r\n",
        "data_collator = DataCollatorForLanguageModeling(tokenizer=tokenizer, mlm=True, mlm_probability=float(0.15))"
      ],
      "execution_count": null,
      "outputs": []
    },
    {
      "cell_type": "markdown",
      "metadata": {
        "id": "UfobDNEtviNh"
      },
      "source": [
        "Text Tokenization and setting train and validation sets\r\n",
        "---\r\n",
        "\r\n"
      ]
    },
    {
      "cell_type": "code",
      "metadata": {
        "id": "lHxQy8OWZ_68"
      },
      "source": [
        "############## Tokenization function to tokenize the examples\r\n",
        "# Tokenizer used is bert tokenizer and customized according to needs\r\n",
        "\r\n",
        "def tokenize_function(examples):\r\n",
        "  return tokenizer(examples,   # each sentence \r\n",
        "                   padding= 'max_length',   # padding the sentences upto max length. other options [True(pad upto max lenth) ; False(no padding)]\r\n",
        "                   truncation=True,         # truncating long sentences with more than 30 tokens\r\n",
        "                   max_length=max_seq_length, # maximum legth set for each sentence is upto 30 tokens\r\n",
        "                   return_special_tokens_mask=True)  # return special tokens mask information."
      ],
      "execution_count": null,
      "outputs": []
    },
    {
      "cell_type": "code",
      "metadata": {
        "id": "Ebz3MrT_N5vW"
      },
      "source": [
        "# Tokenizing the whole dataset \r\n",
        "tokenized_datasets_whole =  df['sentences'].map(tokenize_function)   # method to tokenise the trainset"
      ],
      "execution_count": null,
      "outputs": []
    },
    {
      "cell_type": "code",
      "metadata": {
        "id": "FaXz3aiZN5vj"
      },
      "source": [
        "#### Storing tokenized dataset as pickle \r\n",
        "open_file = open(os.path.join(root,'tokenized_whole_dataset.pkl'), \"wb\")\r\n",
        "pickle.dump(tokenized_datasets_train, open_file)\r\n"
      ],
      "execution_count": null,
      "outputs": []
    },
    {
      "cell_type": "code",
      "metadata": {
        "id": "ZhhorF8cN5vk"
      },
      "source": [
        "#### Reading tokenized dataset from pickle\r\n",
        "\r\n",
        "open_file = open(os.path.join(root,'tokenized_whole_dataset.pkl'), \"rb\")\r\n",
        "tokenized_datasets_whole= pickle.load(open_file)"
      ],
      "execution_count": null,
      "outputs": []
    },
    {
      "cell_type": "markdown",
      "metadata": {
        "id": "hlzQaDWuxc2s"
      },
      "source": [
        "Dividing the datset into 8:2 ratio "
      ]
    },
    {
      "cell_type": "code",
      "metadata": {
        "colab": {
          "base_uri": "https://localhost:8080/"
        },
        "id": "3V6XagiMfTOV",
        "outputId": "1e64bb7c-7187-47f0-d086-b6576987b103"
      },
      "source": [
        "##################### 80% data taken as train set and 20% as validation set\r\n",
        "\r\n",
        "size_of_train_set =int(0.8 * len(tokenized_datasets_whole)) \r\n",
        "print(len(df),size_of_train_set)"
      ],
      "execution_count": null,
      "outputs": [
        {
          "output_type": "stream",
          "text": [
            "2266612 1813289\n"
          ],
          "name": "stdout"
        }
      ]
    },
    {
      "cell_type": "code",
      "metadata": {
        "id": "3Sdmwm-9NTe9"
      },
      "source": [
        "tokenized_datasets_train = tokenized_datasets_whole[:size_of_train_set].reset_index(drop=True)"
      ],
      "execution_count": null,
      "outputs": []
    },
    {
      "cell_type": "code",
      "metadata": {
        "id": "7PXEKyX6NUEv"
      },
      "source": [
        "tokenized_datasets_val = tokenized_datasets_whole[size_of_train_set:].reset_index(drop=True)"
      ],
      "execution_count": null,
      "outputs": []
    },
    {
      "cell_type": "markdown",
      "metadata": {
        "id": "97YRCJypyDim"
      },
      "source": [
        "Fine Tuning Bert on Europarl dataset\r\n",
        "---\r\n",
        "\r\n"
      ]
    },
    {
      "cell_type": "code",
      "metadata": {
        "colab": {
          "base_uri": "https://localhost:8080/",
          "height": 35
        },
        "id": "VwOu0gKMuqW2",
        "outputId": "f9093f0d-1a0e-46bb-e61d-ca9f2ea0ec98"
      },
      "source": [
        "## Changing directory to folder where you would like to store trained model [final and model at checkpoints]\r\n",
        "os.chdir('/content/drive/My Drive/Colab Notebooks/Task2-Fine Tune BERT/fine-tuned-model')\r\n",
        "stored_model_path = os.getcwd()\r\n",
        "stored_model_path"
      ],
      "execution_count": null,
      "outputs": [
        {
          "output_type": "execute_result",
          "data": {
            "application/vnd.google.colaboratory.intrinsic+json": {
              "type": "string"
            },
            "text/plain": [
              "'/content/drive/My Drive/Colab Notebooks/Task2-Fine Tune BERT/fine-tuned-model'"
            ]
          },
          "metadata": {
            "tags": []
          },
          "execution_count": 29
        }
      ]
    },
    {
      "cell_type": "code",
      "metadata": {
        "id": "Lkatb1bTp0QI"
      },
      "source": [
        "### Instantiating trainer with following parameters:\r\n",
        "# pretrained 'bert-base-uncased' model\r\n",
        "# tokenized train set\r\n",
        "# tokenized validation set\r\n",
        "# pretrained 'bert-base-uncased' tokenizer\r\n",
        "# previously initialised data_collator\r\n",
        "# Training Arguments: output directory to save model at checkpoints; steps at which the trained model will be saved and related parameters wil be logged\r\n",
        "\r\n",
        "trainer = Trainer(\r\n",
        "        model=model,\r\n",
        "        # args=training_args,\r\n",
        "        train_dataset=tokenized_datasets_train, #tokenized_datasets[\"train\"] if training_args.do_train else None,\r\n",
        "        eval_dataset=tokenized_datasets_val, #tokenized_datasets[\"validation\"] if training_args.do_eval else None,\r\n",
        "        tokenizer=tokenizer,\r\n",
        "        data_collator=data_collator,\r\n",
        "        args= TrainingArguments(output_dir = os.getcwd(),logging_steps=300000,save_steps=300000)\r\n",
        "    )"
      ],
      "execution_count": null,
      "outputs": []
    },
    {
      "cell_type": "code",
      "metadata": {
        "colab": {
          "base_uri": "https://localhost:8080/",
          "height": 75
        },
        "id": "_JIAiMpmkto8",
        "outputId": "6c854671-050d-437b-c4e9-d0c16462d126"
      },
      "source": [
        "#### Fine tune 'bert-base-uncased' model with train function\r\n",
        "train_result = trainer.train('bert-base-uncased')"
      ],
      "execution_count": null,
      "outputs": [
        {
          "output_type": "display_data",
          "data": {
            "text/html": [
              "\n",
              "    <div>\n",
              "        <style>\n",
              "            /* Turns off some styling */\n",
              "            progress {\n",
              "                /* gets rid of default border in Firefox and Opera. */\n",
              "                border: none;\n",
              "                /* Needs to be in here for Safari polyfill so background images work as expected. */\n",
              "                background-size: auto;\n",
              "            }\n",
              "        </style>\n",
              "      \n",
              "      <progress value='13461' max='679986' style='width:300px; height:20px; vertical-align: middle;'></progress>\n",
              "      [ 13461/679986 34:33 < 28:31:27, 6.49 it/s, Epoch 0.06/3]\n",
              "    </div>\n",
              "    <table border=\"1\" class=\"dataframe\">\n",
              "  <thead>\n",
              "    <tr style=\"text-align: left;\">\n",
              "      <th>Step</th>\n",
              "      <th>Training Loss</th>\n",
              "    </tr>\n",
              "  </thead>\n",
              "  <tbody>\n",
              "  </tbody>\n",
              "</table><p>"
            ],
            "text/plain": [
              "<IPython.core.display.HTML object>"
            ]
          },
          "metadata": {
            "tags": []
          }
        }
      ]
    },
    {
      "cell_type": "markdown",
      "metadata": {
        "id": "sw5RbDKv0IzL"
      },
      "source": [
        "**Saving the model :** *I couldnt train on whole train dataset due to limited resources and hence used the last logged trained model[model logged at 300000 steps] for predicting the word to replace the desired word*"
      ]
    },
    {
      "cell_type": "code",
      "metadata": {
        "id": "EbvGFnu6p0Tb"
      },
      "source": [
        "trainer.save_model(output_dir=path)   # you can use this method to store the trained model at desired location by giving the path"
      ],
      "execution_count": null,
      "outputs": []
    },
    {
      "cell_type": "markdown",
      "metadata": {
        "id": "LRJwV6D2oKnY"
      },
      "source": [
        "# Load the saved Model and replace the desired word **[Run these cells]**"
      ]
    },
    {
      "cell_type": "code",
      "metadata": {
        "id": "OhcnfuLH3vhv"
      },
      "source": [
        "from transformers import (\r\n",
        "    BertTokenizer,    # for tokenizing the text\r\n",
        "    BertConfig,       # for retrieving the model configuration\r\n",
        "    BertForMaskedLM,  # Masked language model for letting the model understand our corpus [fine-tuning]\r\n",
        "    DataCollatorForLanguageModeling,  # for language modeling task. Takes list of samples from a Dataset and collate them into a batch\r\n",
        "    Trainer,          # Used to train the specified model on given dataset and customized training arguments\r\n",
        "    TrainingArguments # Used to customize the training parameters like epochs, save logs etc.\r\n",
        ")"
      ],
      "execution_count": 7,
      "outputs": []
    },
    {
      "cell_type": "code",
      "metadata": {
        "id": "uxtnA1Y3Tq43"
      },
      "source": [
        "def Fine_tuned_parameters(root_dir):\r\n",
        "  stored_model_path = root_dir+'fine-tuned-model/checkpoint-300000/'\r\n",
        "  fine_tuned_config = BertConfig.from_pretrained(stored_model_path)\r\n",
        "  fine_tuned_tokenizer = BertTokenizer.from_pretrained(stored_model_path)\r\n",
        "  fine_tuned_model = BertForMaskedLM.from_pretrained(stored_model_path,\r\n",
        "                                        config= fine_tuned_config\r\n",
        "                                        #from_tf=bool(\".ckpt\" in 'bert-base-uncased')\r\n",
        "                                        )\r\n",
        "  return fine_tuned_config,fine_tuned_tokenizer,fine_tuned_model"
      ],
      "execution_count": 8,
      "outputs": []
    },
    {
      "cell_type": "code",
      "metadata": {
        "id": "JBCz3JGvtuBt"
      },
      "source": [
        "## Tokenization function with fine tuned tokenizer\r\n",
        "\r\n",
        "def fine_tuned_tokenize_function(examples,fine_tuned_tokenizer):\r\n",
        "  # print (examples)\r\n",
        "  # tokens = tokenizer([sentence for sentence in data_files['train'][:10]], return_special_tokens_mask=True)\r\n",
        "  return fine_tuned_tokenizer(examples,\r\n",
        "                   padding= 'max_length',\r\n",
        "                   truncation=True,\r\n",
        "                   max_length=30,\r\n",
        "                   return_special_tokens_mask=True)"
      ],
      "execution_count": 9,
      "outputs": []
    },
    {
      "cell_type": "code",
      "metadata": {
        "id": "yUqoJXPMSNuQ"
      },
      "source": [
        "def Output(sentence, word,root_dir):\r\n",
        "  fine_tuned_config,fine_tuned_tokenizer,fine_tuned_model = Fine_tuned_parameters(root_dir)\r\n",
        "  # tokenized_sentence = fine_tuned_tokenizer(sentence,\r\n",
        "  #                                           padding= 'max_length',\r\n",
        "  #                                           truncation=True,\r\n",
        "  #                                           max_length=30,\r\n",
        "  #                                           return_special_tokens_mask=True)\r\n",
        "\r\n",
        "  tokenized_sentence = fine_tuned_tokenize_function(sentence,fine_tuned_tokenizer)\r\n",
        "  # tokenized_sentence =  (pd.core.series.Series(sentence),fine_tuned_tokenizer).map(fine_tuned_tokenize_function)\r\n",
        "  fine_tuned_model.eval()\r\n",
        "\r\n",
        "  outputs = fine_tuned_model(torch.tensor([tokenized_sentence['input_ids']]),token_type_ids = torch.tensor([tokenized_sentence['token_type_ids']]))\r\n",
        "\r\n",
        "  #####determine position of word to be replaced \r\n",
        "  position = [word for word in sentence.split()].index(word)\r\n",
        "\r\n",
        "  ##### determine the possible alternatives of the word to be replaced\r\n",
        "  predictions = outputs[0][0][position+1]\r\n",
        "  predicted_ids = torch.argsort(predictions, descending=True)[:20]\r\n",
        "  predicted_tokens = fine_tuned_tokenizer.convert_ids_to_tokens(list(predicted_ids))\r\n",
        "\r\n",
        "  # print('predicted tokens :',predicted_tokens)\r\n",
        "\r\n",
        "  ##### replacing the word with new word with similar meaning \r\n",
        "  # stemming the predicted and given words to their root form\r\n",
        "  lancaster=LancasterStemmer()\r\n",
        "  stemmed_predicted_tokens = [ lancaster.stem(i) for i in predicted_tokens]\r\n",
        "  stemmed_word = lancaster.stem(word)\r\n",
        "\r\n",
        "  # replacing the word \r\n",
        "  replaced_sentence = sentence\r\n",
        "  for ind, token in enumerate(stemmed_predicted_tokens):\r\n",
        "    if token not in stopwords.words('english') and not token == stemmed_word and not '#' in token and token not in stemmed_word.lower() and stemmed_word.lower() not in token:\r\n",
        "          replaced_sentence = replaced_sentence.replace(sentence.split()[position],predicted_tokens[ind])\r\n",
        "          break\r\n",
        "\r\n",
        "  return replaced_sentence"
      ],
      "execution_count": 10,
      "outputs": []
    },
    {
      "cell_type": "code",
      "metadata": {
        "colab": {
          "base_uri": "https://localhost:8080/"
        },
        "id": "xocVCghnnp3d",
        "outputId": "6aff9661-af0c-4719-e2ad-73e0189a1103"
      },
      "source": [
        "os.chdir('/content/drive/My Drive/Colab Notebooks/Internship submission/Task2-Fine Tune BERT/fine-tuned-model/checkpoint-300000/')#Task2-Fine Tune BERT/fine-tuned-model/checkpoint-300000/')\r\n",
        "os.listdir()#fine_tuned_config = BertConfig.from_pretrained(stored_model_path)"
      ],
      "execution_count": 21,
      "outputs": [
        {
          "output_type": "execute_result",
          "data": {
            "text/plain": [
              "['checkpoint-300000', 'runs']"
            ]
          },
          "metadata": {
            "tags": []
          },
          "execution_count": 21
        }
      ]
    },
    {
      "cell_type": "markdown",
      "metadata": {
        "id": "HlP7KTIn6kSC"
      },
      "source": [
        "# **Enter the sentence and the word you want to change**"
      ]
    },
    {
      "cell_type": "code",
      "metadata": {
        "id": "h7YHG2lpIrIt",
        "colab": {
          "base_uri": "https://localhost:8080/"
        },
        "outputId": "ea285cec-3322-4173-d41b-d78f04901199"
      },
      "source": [
        "#@title **Please run the cell to input the sentence and the word to be replaced** { display-mode: \"form\" }\n",
        "root_dir = input('1. Please enter the root directory where the folder with files is stored \\n[ex: /content/drive/My Drive/Colab Notebooks/Task2-Fine Tune BERT/]  :  ')\n",
        "\n",
        "input_sentence = input(\"\\n2. Please enter the input sentence  : \")\n",
        "input_word = input('\\n3. Please enter the word to be changed : ')\n",
        "\n",
        "print('\\n\\n####### Fetching new sentence ;) ########\\n')\n",
        "replaced_sentence = Output(input_sentence,input_word,root_dir)\n",
        "\n",
        "print('\\n4. Original sentence : ',input_sentence)\n",
        "print('\\n5. New Sentence with replaced word : ' , replaced_sentence)\n",
        "\n"
      ],
      "execution_count": 22,
      "outputs": [
        {
          "output_type": "stream",
          "text": [
            "1. Please enter the root directory where the folder with files is stored \n",
            "[ex: /content/drive/My Drive/Colab Notebooks/Task2-Fine Tune BERT/]  :  /content/drive/My Drive/Colab Notebooks/Internship submission/Task2-Fine Tune BERT/\n",
            "\n",
            "2. Please enter the input sentence  : This sort of service and difficulty in getting to Strasbourg on a Monday is quite hopeless\n",
            "\n",
            "3. Please enter the word to be changed : difficulty\n",
            "\n",
            "\n",
            "####### Fetching new sentence ;) ########\n",
            "\n",
            "\n",
            "4. Original sentence :  This sort of service and difficulty in getting to Strasbourg on a Monday is quite hopeless\n",
            "\n",
            "5. New Sentence with replaced word :  This sort of service and delay in getting to Strasbourg on a Monday is quite hopeless\n"
          ],
          "name": "stdout"
        }
      ]
    },
    {
      "cell_type": "markdown",
      "metadata": {
        "id": "KxawI3YlNU6S"
      },
      "source": [
        "**`sample:output `**\r\n",
        "\r\n",
        "1. Please enter the root directory where the folder with files is stored \r\n",
        "[ex: /content/drive/My Drive/Colab Notebooks/Task2-Fine Tune BERT/]  :  /content/drive/My Drive/Colab Notebooks/Task2-Fine Tune BERT/\r\n",
        "\r\n",
        "2. Please enter the input sentence  : This sort of service and difficulty in getting to Strasbourg on a Monday is quite hopeless\r\n",
        "\r\n",
        "3. Please enter the word to be changed : difficulty\r\n",
        "\r\n",
        "\r\n",
        "####### Fetching new sentence ;) ########\r\n",
        "\r\n",
        "\r\n",
        "4. Original sentence :  This sort of service and difficulty in getting to Strasbourg on a Monday is quite hopeless\r\n",
        "\r\n",
        "5. New Sentence with replaced word :  This sort of service and delay in getting to Strasbourg on a Monday is quite hopeless"
      ]
    }
  ]
}